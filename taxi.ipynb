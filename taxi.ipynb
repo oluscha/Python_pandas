import pandas as pd

#столбцы start_at, end_at, arrived_at нужно прочитать как даты 
taxi=pd.read_csv('https://stepik.org/media/attachments/lesson/359240/taxi_peru.csv', sep=';', parse_dates=['start_at', 'end_at', 'arrived_at'])

#Проверьте, с какой платформы было сделано больше всего заказов. В ответе укажите значение в %, округлённое до целого.
int(taxi.source.value_counts(normalize=True)[0] * 100)

#Как распределены оценки водителей?
driver_score_counts = taxi \
    .driver_score \
    .value_counts(normalize=True) \
    .mul(100) \
    .round(2) \
    .reset_index() \
    .rename(columns={'index':'driver_score','driver_score':'percentage'}) \
    .sort_values('driver_score')
import seaborn as sns
import matplotlib.pyplot as plt
%matplotlib inline
ax = sns.barplot(x='driver_score', y='percentage', data=driver_score_counts, color='blue', alpha=0.5)



